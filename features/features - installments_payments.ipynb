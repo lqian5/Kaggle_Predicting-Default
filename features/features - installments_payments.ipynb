{
 "cells": [
  {
   "cell_type": "code",
   "execution_count": 1,
   "metadata": {
    "collapsed": true
   },
   "outputs": [],
   "source": [
    "import numpy as np\n",
    "import pandas as pd\n",
    "import gc\n",
    "from sklearn.preprocessing import Imputer\n",
    "from sklearn.feature_selection import VarianceThreshold\n",
    "from sklearn.ensemble import RandomForestClassifier\n",
    "from sklearn.metrics import log_loss,roc_auc_score\n",
    "from sklearn.model_selection import cross_val_score\n",
    "from sklearn.feature_selection import SelectKBest, f_classif\n",
    "\n",
    "import matplotlib.pyplot as plt\n",
    "import seaborn as sns\n",
    "from plotly import offline\n",
    "import plotly.plotly as py\n",
    "import plotly.graph_objs as go\n",
    "color = sns.color_palette()\n",
    "\n",
    "import warnings\n",
    "warnings.filterwarnings('ignore')\n",
    "%matplotlib inline"
   ]
  },
  {
   "cell_type": "markdown",
   "metadata": {},
   "source": [
    "### Load data"
   ]
  },
  {
   "cell_type": "code",
   "execution_count": 2,
   "metadata": {
    "collapsed": true
   },
   "outputs": [],
   "source": [
    "install = pd.read_csv('../input/installments_payments.csv')"
   ]
  },
  {
   "cell_type": "code",
   "execution_count": 5,
   "metadata": {},
   "outputs": [
    {
     "name": "stdout",
     "output_type": "stream",
     "text": [
      "Installment payments data shape:  (13605401, 8)\n"
     ]
    },
    {
     "data": {
      "text/html": [
       "<div>\n",
       "<style scoped>\n",
       "    .dataframe tbody tr th:only-of-type {\n",
       "        vertical-align: middle;\n",
       "    }\n",
       "\n",
       "    .dataframe tbody tr th {\n",
       "        vertical-align: top;\n",
       "    }\n",
       "\n",
       "    .dataframe thead th {\n",
       "        text-align: right;\n",
       "    }\n",
       "</style>\n",
       "<table border=\"1\" class=\"dataframe\">\n",
       "  <thead>\n",
       "    <tr style=\"text-align: right;\">\n",
       "      <th></th>\n",
       "      <th>SK_ID_PREV</th>\n",
       "      <th>SK_ID_CURR</th>\n",
       "      <th>NUM_INSTALMENT_VERSION</th>\n",
       "      <th>NUM_INSTALMENT_NUMBER</th>\n",
       "      <th>DAYS_INSTALMENT</th>\n",
       "      <th>DAYS_ENTRY_PAYMENT</th>\n",
       "      <th>AMT_INSTALMENT</th>\n",
       "      <th>AMT_PAYMENT</th>\n",
       "    </tr>\n",
       "  </thead>\n",
       "  <tbody>\n",
       "    <tr>\n",
       "      <th>0</th>\n",
       "      <td>1054186</td>\n",
       "      <td>161674</td>\n",
       "      <td>1.0</td>\n",
       "      <td>6</td>\n",
       "      <td>-1180.0</td>\n",
       "      <td>-1187.0</td>\n",
       "      <td>6948.360</td>\n",
       "      <td>6948.360</td>\n",
       "    </tr>\n",
       "    <tr>\n",
       "      <th>1</th>\n",
       "      <td>1330831</td>\n",
       "      <td>151639</td>\n",
       "      <td>0.0</td>\n",
       "      <td>34</td>\n",
       "      <td>-2156.0</td>\n",
       "      <td>-2156.0</td>\n",
       "      <td>1716.525</td>\n",
       "      <td>1716.525</td>\n",
       "    </tr>\n",
       "    <tr>\n",
       "      <th>2</th>\n",
       "      <td>2085231</td>\n",
       "      <td>193053</td>\n",
       "      <td>2.0</td>\n",
       "      <td>1</td>\n",
       "      <td>-63.0</td>\n",
       "      <td>-63.0</td>\n",
       "      <td>25425.000</td>\n",
       "      <td>25425.000</td>\n",
       "    </tr>\n",
       "    <tr>\n",
       "      <th>3</th>\n",
       "      <td>2452527</td>\n",
       "      <td>199697</td>\n",
       "      <td>1.0</td>\n",
       "      <td>3</td>\n",
       "      <td>-2418.0</td>\n",
       "      <td>-2426.0</td>\n",
       "      <td>24350.130</td>\n",
       "      <td>24350.130</td>\n",
       "    </tr>\n",
       "    <tr>\n",
       "      <th>4</th>\n",
       "      <td>2714724</td>\n",
       "      <td>167756</td>\n",
       "      <td>1.0</td>\n",
       "      <td>2</td>\n",
       "      <td>-1383.0</td>\n",
       "      <td>-1366.0</td>\n",
       "      <td>2165.040</td>\n",
       "      <td>2160.585</td>\n",
       "    </tr>\n",
       "  </tbody>\n",
       "</table>\n",
       "</div>"
      ],
      "text/plain": [
       "   SK_ID_PREV  SK_ID_CURR  NUM_INSTALMENT_VERSION  NUM_INSTALMENT_NUMBER  \\\n",
       "0     1054186      161674                     1.0                      6   \n",
       "1     1330831      151639                     0.0                     34   \n",
       "2     2085231      193053                     2.0                      1   \n",
       "3     2452527      199697                     1.0                      3   \n",
       "4     2714724      167756                     1.0                      2   \n",
       "\n",
       "   DAYS_INSTALMENT  DAYS_ENTRY_PAYMENT  AMT_INSTALMENT  AMT_PAYMENT  \n",
       "0          -1180.0             -1187.0        6948.360     6948.360  \n",
       "1          -2156.0             -2156.0        1716.525     1716.525  \n",
       "2            -63.0               -63.0       25425.000    25425.000  \n",
       "3          -2418.0             -2426.0       24350.130    24350.130  \n",
       "4          -1383.0             -1366.0        2165.040     2160.585  "
      ]
     },
     "execution_count": 5,
     "metadata": {},
     "output_type": "execute_result"
    }
   ],
   "source": [
    "print('Installment payments data shape: ', install.shape)\n",
    "install.head()"
   ]
  },
  {
   "cell_type": "code",
   "execution_count": 8,
   "metadata": {},
   "outputs": [
    {
     "data": {
      "text/plain": [
       "SK_ID_PREV                  int64\n",
       "SK_ID_CURR                  int64\n",
       "NUM_INSTALMENT_VERSION    float64\n",
       "NUM_INSTALMENT_NUMBER       int64\n",
       "DAYS_INSTALMENT           float64\n",
       "DAYS_ENTRY_PAYMENT        float64\n",
       "AMT_INSTALMENT            float64\n",
       "AMT_PAYMENT               float64\n",
       "dtype: object"
      ]
     },
     "execution_count": 8,
     "metadata": {},
     "output_type": "execute_result"
    }
   ],
   "source": [
    "install.dtypes"
   ]
  },
  {
   "cell_type": "code",
   "execution_count": 9,
   "metadata": {},
   "outputs": [
    {
     "data": {
      "text/plain": [
       "DAYS_INSTALMENT      -1.0\n",
       "DAYS_ENTRY_PAYMENT   -1.0\n",
       "dtype: float64"
      ]
     },
     "execution_count": 9,
     "metadata": {},
     "output_type": "execute_result"
    }
   ],
   "source": [
    "# no anomaly in the days\n",
    "DAYS_col = [col for col in install if col.startswith('DAYS')]\n",
    "install[DAYS_col].max()"
   ]
  },
  {
   "cell_type": "code",
   "execution_count": 11,
   "metadata": {},
   "outputs": [
    {
     "name": "stdout",
     "output_type": "stream",
     "text": [
      "Number of NAs in the columns:\n"
     ]
    },
    {
     "data": {
      "text/plain": [
       "AMT_PAYMENT           2905\n",
       "DAYS_ENTRY_PAYMENT    2905\n",
       "dtype: int64"
      ]
     },
     "execution_count": 11,
     "metadata": {},
     "output_type": "execute_result"
    }
   ],
   "source": [
    "na_totals = install.isnull().sum().sort_values(ascending=False)\n",
    "print (\"Number of NAs in the columns:\")\n",
    "na_totals[na_totals>0]"
   ]
  },
  {
   "cell_type": "code",
   "execution_count": 3,
   "metadata": {
    "collapsed": true
   },
   "outputs": [],
   "source": [
    "# replace missing values with 0 as they never pay\n",
    "install['AMT_PAYMENT'].fillna(0, inplace=True)\n",
    "install['DAYS_ENTRY_PAYMENT'].fillna(0, inplace=True)"
   ]
  },
  {
   "cell_type": "code",
   "execution_count": 91,
   "metadata": {},
   "outputs": [
    {
     "data": {
      "text/plain": [
       "count    339587.000000\n",
       "mean         40.064552\n",
       "std          41.053343\n",
       "min           1.000000\n",
       "25%          12.000000\n",
       "50%          25.000000\n",
       "75%          51.000000\n",
       "max         372.000000\n",
       "dtype: float64"
      ]
     },
     "execution_count": 91,
     "metadata": {},
     "output_type": "execute_result"
    }
   ],
   "source": [
    "install.groupby(['SK_ID_CURR']).size().describe()"
   ]
  },
  {
   "cell_type": "code",
   "execution_count": 15,
   "metadata": {},
   "outputs": [
    {
     "data": {
      "text/html": [
       "<div>\n",
       "<style scoped>\n",
       "    .dataframe tbody tr th:only-of-type {\n",
       "        vertical-align: middle;\n",
       "    }\n",
       "\n",
       "    .dataframe tbody tr th {\n",
       "        vertical-align: top;\n",
       "    }\n",
       "\n",
       "    .dataframe thead th {\n",
       "        text-align: right;\n",
       "    }\n",
       "</style>\n",
       "<table border=\"1\" class=\"dataframe\">\n",
       "  <thead>\n",
       "    <tr style=\"text-align: right;\">\n",
       "      <th></th>\n",
       "      <th>SK_ID_PREV</th>\n",
       "      <th>SK_ID_CURR</th>\n",
       "      <th>NUM_INSTALMENT_VERSION</th>\n",
       "      <th>NUM_INSTALMENT_NUMBER</th>\n",
       "      <th>DAYS_INSTALMENT</th>\n",
       "      <th>DAYS_ENTRY_PAYMENT</th>\n",
       "      <th>AMT_INSTALMENT</th>\n",
       "      <th>AMT_PAYMENT</th>\n",
       "    </tr>\n",
       "  </thead>\n",
       "  <tbody>\n",
       "    <tr>\n",
       "      <th>1761012</th>\n",
       "      <td>1851984</td>\n",
       "      <td>100001</td>\n",
       "      <td>1.0</td>\n",
       "      <td>2</td>\n",
       "      <td>-2916.0</td>\n",
       "      <td>-2916.0</td>\n",
       "      <td>3982.050</td>\n",
       "      <td>3982.050</td>\n",
       "    </tr>\n",
       "    <tr>\n",
       "      <th>3774071</th>\n",
       "      <td>1851984</td>\n",
       "      <td>100001</td>\n",
       "      <td>1.0</td>\n",
       "      <td>3</td>\n",
       "      <td>-2886.0</td>\n",
       "      <td>-2875.0</td>\n",
       "      <td>3982.050</td>\n",
       "      <td>3982.050</td>\n",
       "    </tr>\n",
       "    <tr>\n",
       "      <th>3435373</th>\n",
       "      <td>1851984</td>\n",
       "      <td>100001</td>\n",
       "      <td>1.0</td>\n",
       "      <td>4</td>\n",
       "      <td>-2856.0</td>\n",
       "      <td>-2856.0</td>\n",
       "      <td>3980.925</td>\n",
       "      <td>3980.925</td>\n",
       "    </tr>\n",
       "    <tr>\n",
       "      <th>1478621</th>\n",
       "      <td>1369693</td>\n",
       "      <td>100001</td>\n",
       "      <td>1.0</td>\n",
       "      <td>1</td>\n",
       "      <td>-1709.0</td>\n",
       "      <td>-1715.0</td>\n",
       "      <td>3951.000</td>\n",
       "      <td>3951.000</td>\n",
       "    </tr>\n",
       "    <tr>\n",
       "      <th>2568722</th>\n",
       "      <td>1369693</td>\n",
       "      <td>100001</td>\n",
       "      <td>1.0</td>\n",
       "      <td>2</td>\n",
       "      <td>-1679.0</td>\n",
       "      <td>-1715.0</td>\n",
       "      <td>3951.000</td>\n",
       "      <td>3951.000</td>\n",
       "    </tr>\n",
       "    <tr>\n",
       "      <th>3458712</th>\n",
       "      <td>1369693</td>\n",
       "      <td>100001</td>\n",
       "      <td>1.0</td>\n",
       "      <td>3</td>\n",
       "      <td>-1649.0</td>\n",
       "      <td>-1660.0</td>\n",
       "      <td>3951.000</td>\n",
       "      <td>3951.000</td>\n",
       "    </tr>\n",
       "    <tr>\n",
       "      <th>2624024</th>\n",
       "      <td>1369693</td>\n",
       "      <td>100001</td>\n",
       "      <td>2.0</td>\n",
       "      <td>4</td>\n",
       "      <td>-1619.0</td>\n",
       "      <td>-1628.0</td>\n",
       "      <td>17397.900</td>\n",
       "      <td>17397.900</td>\n",
       "    </tr>\n",
       "  </tbody>\n",
       "</table>\n",
       "</div>"
      ],
      "text/plain": [
       "         SK_ID_PREV  SK_ID_CURR  NUM_INSTALMENT_VERSION  \\\n",
       "1761012     1851984      100001                     1.0   \n",
       "3774071     1851984      100001                     1.0   \n",
       "3435373     1851984      100001                     1.0   \n",
       "1478621     1369693      100001                     1.0   \n",
       "2568722     1369693      100001                     1.0   \n",
       "3458712     1369693      100001                     1.0   \n",
       "2624024     1369693      100001                     2.0   \n",
       "\n",
       "         NUM_INSTALMENT_NUMBER  DAYS_INSTALMENT  DAYS_ENTRY_PAYMENT  \\\n",
       "1761012                      2          -2916.0             -2916.0   \n",
       "3774071                      3          -2886.0             -2875.0   \n",
       "3435373                      4          -2856.0             -2856.0   \n",
       "1478621                      1          -1709.0             -1715.0   \n",
       "2568722                      2          -1679.0             -1715.0   \n",
       "3458712                      3          -1649.0             -1660.0   \n",
       "2624024                      4          -1619.0             -1628.0   \n",
       "\n",
       "         AMT_INSTALMENT  AMT_PAYMENT  \n",
       "1761012        3982.050     3982.050  \n",
       "3774071        3982.050     3982.050  \n",
       "3435373        3980.925     3980.925  \n",
       "1478621        3951.000     3951.000  \n",
       "2568722        3951.000     3951.000  \n",
       "3458712        3951.000     3951.000  \n",
       "2624024       17397.900    17397.900  "
      ]
     },
     "execution_count": 15,
     "metadata": {},
     "output_type": "execute_result"
    }
   ],
   "source": [
    "install[install['SK_ID_CURR']==100001].sort_values('DAYS_INSTALMENT')"
   ]
  },
  {
   "cell_type": "markdown",
   "metadata": {},
   "source": [
    "client 100001 was late on second installment payment, and then also late on last four payments. First few payments are crucial because if a client was late in the beginning, collection would send reminder for later payments. So we need a way to capture the promptness of clients' first few payments."
   ]
  },
  {
   "cell_type": "code",
   "execution_count": 92,
   "metadata": {},
   "outputs": [
    {
     "data": {
      "text/plain": [
       "array([161674, 151639, 193053, ..., 413433, 434445, 405063])"
      ]
     },
     "execution_count": 92,
     "metadata": {},
     "output_type": "execute_result"
    }
   ],
   "source": [
    "install['SK_ID_CURR'].unique()"
   ]
  },
  {
   "cell_type": "code",
   "execution_count": 5,
   "metadata": {},
   "outputs": [],
   "source": [
    "ins = install.sort_values('DAYS_INSTALMENT').copy()\n",
    "# Percentage and difference paid in each installment (amount paid and installment value)\n",
    "# ins['PAYMENT_PERC'] = ins['AMT_PAYMENT'] / ins['AMT_INSTALMENT']\n",
    "ins['PAYMENT_DIFF'] = ins['AMT_INSTALMENT'] - ins['AMT_PAYMENT']\n",
    "# Days past due and days before due (no negative values)\n",
    "ins['DPD'] = ins['DAYS_ENTRY_PAYMENT'] - ins['DAYS_INSTALMENT']\n",
    "ins['DBD'] = ins['DAYS_INSTALMENT'] - ins['DAYS_ENTRY_PAYMENT']\n",
    "ins['DPD'] = ins['DPD'].apply(lambda x: x if x > 0 else 0)\n",
    "ins['DBD'] = ins['DBD'].apply(lambda x: x if x > 0 else 0)\n",
    "\n",
    "# Features: Perform aggregations\n",
    "def head_sum_3(x):\n",
    "    return x.head(3).sum()\n",
    "\n",
    "def head_sum_5(x):\n",
    "    return x.head(5).sum()\n",
    "\n",
    "aggregations = {\n",
    "    'NUM_INSTALMENT_VERSION': ['nunique'],\n",
    "    'DPD': ['max', 'mean', 'sum'],\n",
    "    'DBD': ['max', 'mean', 'sum', head_sum_3, head_sum_5],\n",
    "    #'PAYMENT_PERC': ['max', 'mean', 'sum'],\n",
    "    'PAYMENT_DIFF': ['max', 'mean', 'sum', head_sum_3,head_sum_5],\n",
    "    'AMT_INSTALMENT': ['max', 'mean', 'sum'],\n",
    "    'AMT_PAYMENT': ['min', 'max', 'mean', 'sum'],\n",
    "    'DAYS_ENTRY_PAYMENT': ['max', 'mean', 'sum']\n",
    "}\n",
    "\n",
    "ins_agg = ins.groupby('SK_ID_CURR').agg(aggregations)\n",
    "ins_agg.columns = pd.Index(['INSTAL_' + e[0] + \"_\" + e[1].upper() for e in ins_agg.columns.tolist()])\n",
    "# Count installments accounts\n",
    "ins_agg['INSTAL_COUNT'] = ins.groupby('SK_ID_CURR').size()"
   ]
  },
  {
   "cell_type": "code",
   "execution_count": 6,
   "metadata": {},
   "outputs": [
    {
     "data": {
      "text/plain": [
       "52"
      ]
     },
     "execution_count": 6,
     "metadata": {},
     "output_type": "execute_result"
    }
   ],
   "source": [
    "application_train = pd.read_csv(\"../input/application_train.csv\") \n",
    "application_test = pd.read_csv(\"../input/application_test.csv\")\n",
    "\n",
    "df_index = application_train.append(application_test).reset_index(drop=True)[['SK_ID_CURR','TARGET']]\n",
    "df_joined = df_index.join(ins_agg, how='left', on='SK_ID_CURR')\n",
    "# clear the memory\n",
    "del application_train\n",
    "del application_test\n",
    "del df_index\n",
    "gc.collect()"
   ]
  },
  {
   "cell_type": "code",
   "execution_count": 75,
   "metadata": {},
   "outputs": [
    {
     "name": "stdout",
     "output_type": "stream",
     "text": [
      "Number of NAs in the columns:\n"
     ]
    },
    {
     "data": {
      "text/plain": [
       "TARGET                                   48744\n",
       "INSTAL_COUNT                             16668\n",
       "INSTAL_PAYMENT_DIFF_MEAN                 16668\n",
       "INSTAL_NUM_INSTALMENT_VERSION_NUNIQUE    16668\n",
       "INSTAL_DPD_MAX                           16668\n",
       "INSTAL_DPD_MEAN                          16668\n",
       "INSTAL_DPD_SUM                           16668\n",
       "INSTAL_DBD_MAX                           16668\n",
       "INSTAL_DBD_MEAN                          16668\n",
       "INSTAL_DBD_SUM                           16668\n",
       "INSTAL_PAYMENT_DIFF_MAX                  16668\n",
       "INSTAL_PAYMENT_DIFF_SUM                  16668\n",
       "INSTAL_DAYS_ENTRY_PAYMENT_SUM            16668\n",
       "INSTAL_AMT_INSTALMENT_MAX                16668\n",
       "INSTAL_AMT_INSTALMENT_MEAN               16668\n",
       "INSTAL_AMT_INSTALMENT_SUM                16668\n",
       "INSTAL_AMT_PAYMENT_MIN                   16668\n",
       "INSTAL_AMT_PAYMENT_MAX                   16668\n",
       "INSTAL_AMT_PAYMENT_MEAN                  16668\n",
       "INSTAL_AMT_PAYMENT_SUM                   16668\n",
       "INSTAL_DAYS_ENTRY_PAYMENT_MAX            16668\n",
       "INSTAL_DAYS_ENTRY_PAYMENT_MEAN           16668\n",
       "dtype: int64"
      ]
     },
     "execution_count": 75,
     "metadata": {},
     "output_type": "execute_result"
    }
   ],
   "source": [
    "na_totals = df_joined.isnull().sum().sort_values(ascending=False)\n",
    "print (\"Number of NAs in the columns:\")\n",
    "na_totals[na_totals>0]"
   ]
  },
  {
   "cell_type": "code",
   "execution_count": 7,
   "metadata": {
    "collapsed": true
   },
   "outputs": [],
   "source": [
    "def fill_with_median(df, missing_cols):\n",
    "    # add a new column signifying missing install records\n",
    "    df['INSTALL_MISSING'] = pd.isnull(missing_cols[0])\n",
    "    # replace missing values with median\n",
    "    for col in missing_cols:\n",
    "        col_m = df[col].median()\n",
    "        df[col].fillna(col_m, inplace=True)\n",
    "\n",
    "na_totals = df_joined.isnull().sum().sort_values(ascending=False)\n",
    "missing_cols = list(na_totals[na_totals==16668].index)\n",
    "fill_with_median(df_joined, missing_cols)"
   ]
  },
  {
   "cell_type": "code",
   "execution_count": 8,
   "metadata": {
    "collapsed": true
   },
   "outputs": [],
   "source": [
    "train_labels = df_joined[df_joined['TARGET'].notnull()].TARGET.values\n",
    "train_df = df_joined[df_joined['TARGET'].notnull()].drop(['TARGET','SK_ID_CURR'],axis=1)\n",
    "test_df = df_joined[df_joined['TARGET'].isnull()].drop(['TARGET','SK_ID_CURR'],axis=1)"
   ]
  },
  {
   "cell_type": "code",
   "execution_count": 9,
   "metadata": {},
   "outputs": [
    {
     "data": {
      "text/plain": [
       "(307511, 26)"
      ]
     },
     "execution_count": 9,
     "metadata": {},
     "output_type": "execute_result"
    }
   ],
   "source": [
    "train_df.shape"
   ]
  },
  {
   "cell_type": "code",
   "execution_count": 10,
   "metadata": {},
   "outputs": [
    {
     "data": {
      "text/plain": [
       "(307511, 25)"
      ]
     },
     "execution_count": 10,
     "metadata": {},
     "output_type": "execute_result"
    }
   ],
   "source": [
    "VarianceThreshold(.01).fit_transform(train_df).shape  # INSTALL_MISSING would be removed"
   ]
  },
  {
   "cell_type": "code",
   "execution_count": 11,
   "metadata": {},
   "outputs": [
    {
     "name": "stderr",
     "output_type": "stream",
     "text": [
      "[Parallel(n_jobs=-1)]: Done  20 out of  20 | elapsed:    5.0s finished\n",
      "[Parallel(n_jobs=8)]: Done  20 out of  20 | elapsed:    0.1s finished\n",
      "[Parallel(n_jobs=-1)]: Done  20 out of  20 | elapsed:    5.5s finished\n",
      "[Parallel(n_jobs=8)]: Done  20 out of  20 | elapsed:    0.1s finished\n",
      "[Parallel(n_jobs=-1)]: Done  20 out of  20 | elapsed:    5.5s finished\n"
     ]
    },
    {
     "name": "stdout",
     "output_type": "stream",
     "text": [
      "Cross validation ROC AUC score is:  0.5775853554874483\n"
     ]
    },
    {
     "name": "stderr",
     "output_type": "stream",
     "text": [
      "[Parallel(n_jobs=8)]: Done  20 out of  20 | elapsed:    0.1s finished\n"
     ]
    }
   ],
   "source": [
    "random_forest = RandomForestClassifier(n_estimators = 20, random_state = 50, verbose = 1, n_jobs = -1)\n",
    "\n",
    "print('Cross validation ROC AUC score is: ',\n",
    "      cross_val_score(random_forest, train_df, train_labels, scoring='roc_auc').mean())\n",
    "# 0.576"
   ]
  },
  {
   "cell_type": "code",
   "execution_count": 12,
   "metadata": {
    "collapsed": true
   },
   "outputs": [],
   "source": [
    "df_joined[['SK_ID_CURR'] + list(train_df.columns)].to_csv('../input/install_features.csv', index = False)"
   ]
  }
 ],
 "metadata": {
  "kernelspec": {
   "display_name": "Python 3",
   "language": "python",
   "name": "python3"
  },
  "language_info": {
   "codemirror_mode": {
    "name": "ipython",
    "version": 3
   },
   "file_extension": ".py",
   "mimetype": "text/x-python",
   "name": "python",
   "nbconvert_exporter": "python",
   "pygments_lexer": "ipython3",
   "version": "3.6.1"
  }
 },
 "nbformat": 4,
 "nbformat_minor": 2
}
